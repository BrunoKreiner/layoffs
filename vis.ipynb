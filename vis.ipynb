{
 "cells": [
  {
   "cell_type": "code",
   "execution_count": 1,
   "metadata": {},
   "outputs": [
    {
     "name": "stdout",
     "output_type": "stream",
     "text": [
      "           company     location        industry  total_laid_off  \\\n",
      "0      CoverMyMeds     Columbus      Healthcare           800.0   \n",
      "1  Electronic Arts  SF Bay Area        Consumer           780.0   \n",
      "2            Shift  SF Bay Area  Transportation             NaN   \n",
      "3     Lucid Motors  SF Bay Area  Transportation          1300.0   \n",
      "4        Blue Nile      Seattle          Retail           119.0   \n",
      "\n",
      "   percentage_laid_off        date     stage        country  funds_raised  \n",
      "0                  NaN  2023-03-29  Acquired  United States           5.0  \n",
      "1                 0.06  2023-03-29  Post-IPO  United States           2.0  \n",
      "2                 0.30  2023-03-29  Post-IPO  United States         504.0  \n",
      "3                 0.18  2023-03-28  Post-IPO  United States        8300.0  \n",
      "4                  NaN  2023-03-28  Acquired  United States          62.0  \n",
      "<class 'pandas.core.frame.DataFrame'>\n",
      "RangeIndex: 2438 entries, 0 to 2437\n",
      "Data columns (total 9 columns):\n",
      " #   Column               Non-Null Count  Dtype  \n",
      "---  ------               --------------  -----  \n",
      " 0   company              2438 non-null   object \n",
      " 1   location             2438 non-null   object \n",
      " 2   industry             2436 non-null   object \n",
      " 3   total_laid_off       1669 non-null   float64\n",
      " 4   percentage_laid_off  1617 non-null   float64\n",
      " 5   date                 2437 non-null   object \n",
      " 6   stage                2432 non-null   object \n",
      " 7   country              2438 non-null   object \n",
      " 8   funds_raised         2215 non-null   float64\n",
      "dtypes: float64(3), object(6)\n",
      "memory usage: 171.5+ KB\n",
      "None\n"
     ]
    }
   ],
   "source": [
    "import pandas as pd\n",
    "import numpy as np\n",
    "data = pd.read_csv('layoffs.csv')\n",
    "print(data.head())\n",
    "print(data.info())"
   ]
  },
  {
   "cell_type": "code",
   "execution_count": 3,
   "metadata": {},
   "outputs": [
    {
     "name": "stdout",
     "output_type": "stream",
     "text": [
      "company                 0.000000\n",
      "location                0.000000\n",
      "industry                0.082034\n",
      "total_laid_off         31.542248\n",
      "percentage_laid_off    33.675144\n",
      "date                    0.041017\n",
      "stage                   0.246103\n",
      "country                 0.000000\n",
      "funds_raised            9.146842\n",
      "dtype: float64\n"
     ]
    }
   ],
   "source": [
    "# Check the percentage of missing values in each column\n",
    "print(data.isnull().sum() / len(data) * 100)\n",
    "\n",
    "data['date'] = pd.to_datetime(data['date'])\n",
    "data['year'] = data['date'].dt.year\n",
    "data['month'] = data['date'].dt.month\n",
    "data['recent_acquisition'] = (data['stage'] == 'Acquired') & (data['date'] >= '2023-01-01')\n",
    "industry_layoffs = data.groupby('industry')['total_laid_off'].sum().reset_index()\n",
    "location_layoffs = data.groupby('location')['total_laid_off'].sum().reset_index()\n",
    "\n",
    "# For the 'percentage_laid_off' column, you may decide to fill missing values with the median\n",
    "data_fill_median = data.copy()\n",
    "data_fill_median['percentage_laid_off'] = data_fill_median['percentage_laid_off'].fillna(data_fill_median['percentage_laid_off'].median())\n",
    "industry_layoffs_data_fill_median = data_fill_median.groupby('industry')['total_laid_off'].sum().reset_index()\n",
    "location_layoffs_data_fill_median = data_fill_median.groupby('location')['total_laid_off'].sum().reset_index()"
   ]
  },
  {
   "cell_type": "code",
   "execution_count": 5,
   "metadata": {},
   "outputs": [
    {
     "name": "stdout",
     "output_type": "stream",
     "text": [
      "          industry  total_laid_off\n",
      "0        Aerospace           661.0\n",
      "1     Construction          3863.0\n",
      "2         Consumer         56042.0\n",
      "3           Crypto         10768.0\n",
      "4             Data          5610.0\n",
      "5        Education         13380.0\n",
      "6           Energy           802.0\n",
      "7          Finance         29714.0\n",
      "8          Fitness          8898.0\n",
      "9             Food         24895.0\n",
      "10              HR          5676.0\n",
      "11        Hardware         14528.0\n",
      "12      Healthcare         27101.0\n",
      "13  Infrastructure          5785.0\n",
      "14           Legal           836.0\n",
      "15       Logistics          4026.0\n",
      "16   Manufacturing           128.0\n",
      "17       Marketing         10398.0\n",
      "18           Media          5274.0\n",
      "19           Other         36349.0\n",
      "20         Product          1233.0\n",
      "21     Real Estate         17565.0\n",
      "22      Recruiting          2775.0\n",
      "23          Retail         53110.0\n",
      "24           Sales         13216.0\n",
      "25        Security          5979.0\n",
      "26         Support          3523.0\n",
      "27  Transportation         36484.0\n",
      "28          Travel         17159.0\n",
      "       location  total_laid_off\n",
      "0         Accra             0.0\n",
      "1     Ahmedabad           500.0\n",
      "2        Albany           371.0\n",
      "3     Amsterdam         17140.0\n",
      "4     Ann Arbor           240.0\n",
      "..          ...             ...\n",
      "194  Wilmington           100.0\n",
      "195    Winnipeg           350.0\n",
      "196      Yangon           200.0\n",
      "197         Zug             0.0\n",
      "198      Zurich            62.0\n",
      "\n",
      "[199 rows x 2 columns]\n"
     ]
    }
   ],
   "source": [
    "print(industry_layoffs)\n",
    "print(location_layoffs)"
   ]
  },
  {
   "cell_type": "code",
   "execution_count": null,
   "metadata": {},
   "outputs": [],
   "source": []
  }
 ],
 "metadata": {
  "kernelspec": {
   "display_name": "my_env",
   "language": "python",
   "name": "python3"
  },
  "language_info": {
   "codemirror_mode": {
    "name": "ipython",
    "version": 3
   },
   "file_extension": ".py",
   "mimetype": "text/x-python",
   "name": "python",
   "nbconvert_exporter": "python",
   "pygments_lexer": "ipython3",
   "version": "3.9.16"
  },
  "orig_nbformat": 4
 },
 "nbformat": 4,
 "nbformat_minor": 2
}
